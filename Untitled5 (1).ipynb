{
 "cells": [
  {
   "cell_type": "code",
   "execution_count": 1,
   "id": "dedcc401-cd44-4b6b-a2c4-3627abc91c1c",
   "metadata": {},
   "outputs": [],
   "source": [
    "# Import necessary libraries\n",
    "import cv2\n",
    "import mediapipe as mp\n",
    "import time\n",
    "import logging"
   ]
  },
  {
   "cell_type": "code",
   "execution_count": 3,
   "id": "111c7045-08a4-4325-9943-373f7aac81fe",
   "metadata": {},
   "outputs": [],
   "source": [
    "# Set up logging\n",
    "logging.basicConfig(level=logging.INFO)"
   ]
  },
  {
   "cell_type": "code",
   "execution_count": 5,
   "id": "c2eadf3f-18a9-45a2-8ace-1422322c3bdf",
   "metadata": {},
   "outputs": [],
   "source": [
    "# Color Constants for Drawing\n",
    "FACE_COLOR = (80, 110, 10)\n",
    "RIGHT_HAND_COLOR = (80, 22, 10)\n",
    "LEFT_HAND_COLOR = (121, 22, 76)\n",
    "POSE_COLOR = (245, 117, 66)"
   ]
  },
  {
   "cell_type": "code",
   "execution_count": 7,
   "id": "be6493e1-1e21-4e49-840e-afec19385ee2",
   "metadata": {},
   "outputs": [],
   "source": [
    "\n",
    "# Detection thresholds\n",
    "MIN_DETECTION_CONFIDENCE = 0.6\n",
    "MIN_TRACKING_CONFIDENCE = 0.6"
   ]
  },
  {
   "cell_type": "code",
   "execution_count": 9,
   "id": "d6881090-aa4e-485c-aec9-466d98425b77",
   "metadata": {},
   "outputs": [],
   "source": [
    "def process_and_display_frame(current_frame, holistic_model):\n",
    "    \"\"\"Process a single frame to detect face, pose, and hand landmarks, and display it.\"\"\"\n",
    "    # Convert frame to RGB for MediaPipe processing\n",
    "    rgb_frame = cv2.cvtColor(current_frame, cv2.COLOR_BGR2RGB)\n",
    "    detection_results = holistic_model.process(rgb_frame)\n",
    "    \n",
    "    # Convert frame back to BGR for OpenCV\n",
    "    bgr_frame = cv2.cvtColor(rgb_frame, cv2.COLOR_RGB2BGR)\n",
    "    \n",
    "    # Draw landmarks for face, hands, and pose\n",
    "    mp.solutions.drawing_utils.draw_landmarks(\n",
    "        bgr_frame, \n",
    "        detection_results.face_landmarks, \n",
    "        mp.solutions.holistic.FACEMESH_TESSELATION, \n",
    "        mp.solutions.drawing_utils.DrawingSpec(color=FACE_COLOR, thickness=1, circle_radius=1),\n",
    "        mp.solutions.drawing_utils.DrawingSpec(color=(80, 256, 121), thickness=1, circle_radius=1)\n",
    "    )\n",
    "    \n",
    "    mp.solutions.drawing_utils.draw_landmarks(\n",
    "        bgr_frame, \n",
    "        detection_results.right_hand_landmarks, \n",
    "        mp.solutions.holistic.HAND_CONNECTIONS, \n",
    "        mp.solutions.drawing_utils.DrawingSpec(color=RIGHT_HAND_COLOR, thickness=2, circle_radius=4),\n",
    "        mp.solutions.drawing_utils.DrawingSpec(color=(80, 44, 121), thickness=2, circle_radius=2)\n",
    "    )\n",
    "\n",
    "    mp.solutions.drawing_utils.draw_landmarks(\n",
    "        bgr_frame, \n",
    "        detection_results.left_hand_landmarks, \n",
    "        mp.solutions.holistic.HAND_CONNECTIONS, \n",
    "        mp.solutions.drawing_utils.DrawingSpec(color=LEFT_HAND_COLOR, thickness=2, circle_radius=4),\n",
    "        mp.solutions.drawing_utils.DrawingSpec(color=(121, 44, 250), thickness=2, circle_radius=2)\n",
    "    )\n",
    "\n",
    "    mp.solutions.drawing_utils.draw_landmarks(\n",
    "        bgr_frame, \n",
    "        detection_results.pose_landmarks, \n",
    "        mp.solutions.holistic.POSE_CONNECTIONS, \n",
    "        mp.solutions.drawing_utils.DrawingSpec(color=POSE_COLOR, thickness=2, circle_radius=4),\n",
    "        mp.solutions.drawing_utils.DrawingSpec(color=(245, 66, 230), thickness=2, circle_radius=2)\n",
    "    )\n",
    "    \n",
    "    return bgr_frame\n"
   ]
  },
  {
   "cell_type": "code",
   "execution_count": 15,
   "id": "64523b19-dc73-4514-ace2-c3b4186807d2",
   "metadata": {},
   "outputs": [],
   "source": [
    "\n",
    "def run_holistic_detection(camera_capture):\n",
    "    \"\"\"Run the holistic detection on webcam frames.\"\"\"\n",
    "    frame_count = 0\n",
    "    prev_time = 0  # Used to calculate FPS\n",
    "    \n",
    "    logging.info('Starting holistic detection...')\n",
    "    \n",
    "    with mp.solutions.holistic.Holistic(\n",
    "        min_detection_confidence=MIN_DETECTION_CONFIDENCE, \n",
    "        min_tracking_confidence=MIN_TRACKING_CONFIDENCE\n",
    "    ) as holistic_model:\n",
    "        \n",
    "        while camera_capture.isOpened():\n",
    "            frame_captured, current_frame = camera_capture.read()\n",
    "            \n",
    "            if not frame_captured:\n",
    "                logging.error('Failed to read frame from webcam. Exiting...')\n",
    "                break\n",
    "            \n",
    "            frame_count += 1\n",
    "            \n",
    "            # Process every 3rd frame for efficiency\n",
    "            if frame_count % 5 == 0:\n",
    "                processed_frame = process_and_display_frame(current_frame, holistic_model)\n",
    "                \n",
    "                # Calculate and display FPS\n",
    "                current_time = time.time()\n",
    "                fps = 1 / (current_time - prev_time) if prev_time != 0 else 0\n",
    "                prev_time = current_time\n",
    "                \n",
    "                cv2.putText(\n",
    "                    processed_frame, \n",
    "                    f'FPS: {int(fps)}', \n",
    "                    (10, 30), \n",
    "                    cv2.FONT_HERSHEY_SIMPLEX, \n",
    "                    1, \n",
    "                    (255, 0, 0), \n",
    "                    2, \n",
    "                    cv2.LINE_AA\n",
    "                )\n",
    "                \n",
    "                # Display the processed frame\n",
    "                cv2.imshow('Holistic Model Real-time Feed', processed_frame)\n",
    "            \n",
    "            # Exit on 'q' or 'ESC' key press\n",
    "            if cv2.waitKey(10) in [27, ord('q')]:  # 27 is ESC key\n",
    "                logging.info('Exit key pressed. Exiting...')\n",
    "                break"
   ]
  },
  {
   "cell_type": "code",
   "execution_count": 17,
   "id": "25fb87a7-6641-4e65-a5e3-e7fc07e4e705",
   "metadata": {},
   "outputs": [
    {
     "name": "stderr",
     "output_type": "stream",
     "text": [
      "INFO:root:Starting holistic detection...\n",
      "INFO:root:Exit key pressed. Exiting...\n",
      "INFO:root:Releasing webcam and closing all windows.\n"
     ]
    }
   ],
   "source": [
    "def main():\n",
    "    \"\"\"Main entry point of the script.\"\"\"\n",
    "    try:\n",
    "        # Initialize webcam\n",
    "        camera_capture = cv2.VideoCapture(0)\n",
    "        \n",
    "        if not camera_capture.isOpened():\n",
    "            logging.error(\"Error: Could not access the webcam.\")\n",
    "            return\n",
    "        \n",
    "        run_holistic_detection(camera_capture)\n",
    "    \n",
    "    except KeyboardInterrupt:\n",
    "        logging.info(\"Exiting on Keyboard Interrupt...\")\n",
    "    \n",
    "    except Exception as e:\n",
    "        logging.error(f\"An unexpected error occurred: {e}\")\n",
    "    \n",
    "    finally:\n",
    "        # Release webcam and close all OpenCV windows\n",
    "        logging.info(\"Releasing webcam and closing all windows.\")\n",
    "        camera_capture.release()\n",
    "        cv2.destroyAllWindows()\n",
    "\n",
    "\n",
    "if __name__ == '__main__':\n",
    "    main()"
   ]
  },
  {
   "cell_type": "code",
   "execution_count": null,
   "id": "cccda670-c077-40fd-9581-0175478ecec1",
   "metadata": {},
   "outputs": [],
   "source": []
  }
 ],
 "metadata": {
  "kernelspec": {
   "display_name": "Python 3 (ipykernel)",
   "language": "python",
   "name": "python3"
  },
  "language_info": {
   "codemirror_mode": {
    "name": "ipython",
    "version": 3
   },
   "file_extension": ".py",
   "mimetype": "text/x-python",
   "name": "python",
   "nbconvert_exporter": "python",
   "pygments_lexer": "ipython3",
   "version": "3.12.7"
  }
 },
 "nbformat": 4,
 "nbformat_minor": 5
}
